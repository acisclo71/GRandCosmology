{
 "cells": [
  {
   "cell_type": "markdown",
   "id": "ed893064",
   "metadata": {},
   "source": [
    "# Cosmología"
   ]
  },
  {
   "cell_type": "markdown",
   "id": "f34f18f4",
   "metadata": {},
   "source": [
    "## Introducción"
   ]
  },
  {
   "cell_type": "markdown",
   "id": "876931f4",
   "metadata": {},
   "source": [
    "Vamos a utilizar el paquete astropy.cosmology que contiene clases\n",
    "para representar distintas cosmologías y funciones para calcular\n",
    "las cantidades más comunes que dependen del modelo cosmológico. "
   ]
  },
  {
   "cell_type": "markdown",
   "id": "03eb5b57",
   "metadata": {},
   "source": [
    "Estas cantidades incluyen distancias, edades y tiempos que \n",
    "corresponden a medidas de corrimiento al rojo o distancias de\n",
    "separación angular."
   ]
  },
  {
   "cell_type": "markdown",
   "id": "dc4e0792",
   "metadata": {},
   "source": [
    "astropy.cosmology.units extiende el paquete astropy.units añadiendo \n",
    "unidades cosmológicas y equivalencias, como h para expresar la \n",
    "constante de Hubble sin expresar la medición exacta."
   ]
  },
  {
   "cell_type": "markdown",
   "id": "0e8c23fd",
   "metadata": {},
   "source": [
    "Lo primero es importar las librerías y seleccionar la cosmología"
   ]
  },
  {
   "cell_type": "code",
   "execution_count": 56,
   "id": "aad2e0b8",
   "metadata": {},
   "outputs": [],
   "source": [
    "import numpy as np\n",
    "import astropy.units as u\n",
    "from astropy.cosmology import z_at_value\n",
    "from astropy.cosmology import FlatLambdaCDM\n",
    "from astropy.cosmology import Cosmology\n",
    "from astropy.cosmology import WMAP9 as wmap\n",
    "from astropy.cosmology import Planck18 as P18\n",
    "from astropy.cosmology import Planck13 as P13\n",
    "from astropy.cosmology import WMAP7 ## LambdaCDM curved universe"
   ]
  },
  {
   "cell_type": "markdown",
   "id": "061b7a06",
   "metadata": {},
   "source": [
    "Calculemos la constante de Hubble para cada una de las cosmologías."
   ]
  },
  {
   "cell_type": "code",
   "execution_count": 4,
   "id": "d3f4cd1a",
   "metadata": {},
   "outputs": [
    {
     "data": {
      "text/latex": [
       "$69.32 \\; \\mathrm{\\frac{km}{Mpc\\,s}}$"
      ],
      "text/plain": [
       "<Quantity 69.32 km / (Mpc s)>"
      ]
     },
     "execution_count": 4,
     "metadata": {},
     "output_type": "execute_result"
    }
   ],
   "source": [
    "wmap.H(0)"
   ]
  },
  {
   "cell_type": "code",
   "execution_count": 7,
   "id": "b6f8576d",
   "metadata": {},
   "outputs": [
    {
     "data": {
      "text/latex": [
       "$67.77 \\; \\mathrm{\\frac{km}{Mpc\\,s}}$"
      ],
      "text/plain": [
       "<Quantity 67.77 km / (Mpc s)>"
      ]
     },
     "execution_count": 7,
     "metadata": {},
     "output_type": "execute_result"
    }
   ],
   "source": [
    "P13.H(0)"
   ]
  },
  {
   "cell_type": "code",
   "execution_count": 8,
   "id": "8db73f2c",
   "metadata": {},
   "outputs": [
    {
     "data": {
      "text/latex": [
       "$67.66 \\; \\mathrm{\\frac{km}{Mpc\\,s}}$"
      ],
      "text/plain": [
       "<Quantity 67.66 km / (Mpc s)>"
      ]
     },
     "execution_count": 8,
     "metadata": {},
     "output_type": "execute_result"
    }
   ],
   "source": [
    "P18.H(0)"
   ]
  },
  {
   "cell_type": "markdown",
   "id": "b77f56c5",
   "metadata": {},
   "source": [
    "Y calculemos el número de kiloparsecs transversales propios (kpc) correspondientes a un minuto de arco a z=3 para cada cosmología"
   ]
  },
  {
   "cell_type": "code",
   "execution_count": 33,
   "id": "9662f8f0",
   "metadata": {},
   "outputs": [
    {
     "data": {
      "text/latex": [
       "$472.97709 \\; \\mathrm{\\frac{kpc}{{}^{\\prime}}}$"
      ],
      "text/plain": [
       "<Quantity 472.97708859 kpc / arcmin>"
      ]
     },
     "execution_count": 33,
     "metadata": {},
     "output_type": "execute_result"
    }
   ],
   "source": [
    "wmap.kpc_proper_per_arcmin(3)"
   ]
  },
  {
   "cell_type": "code",
   "execution_count": 27,
   "id": "cd986df5",
   "metadata": {},
   "outputs": [
    {
     "data": {
      "text/latex": [
       "$473.36954 \\; \\mathrm{\\frac{kpc}{{}^{\\prime}}}$"
      ],
      "text/plain": [
       "<Quantity 473.36954152 kpc / arcmin>"
      ]
     },
     "execution_count": 27,
     "metadata": {},
     "output_type": "execute_result"
    }
   ],
   "source": [
    "P13.kpc_proper_per_arcmin(3)"
   ]
  },
  {
   "cell_type": "code",
   "execution_count": 28,
   "id": "f0b5b328",
   "metadata": {},
   "outputs": [
    {
     "data": {
      "text/latex": [
       "$472.98452 \\; \\mathrm{\\frac{kpc}{{}^{\\prime}}}$"
      ],
      "text/plain": [
       "<Quantity 472.98451738 kpc / arcmin>"
      ]
     },
     "execution_count": 28,
     "metadata": {},
     "output_type": "execute_result"
    }
   ],
   "source": [
    "P18.kpc_proper_per_arcmin(3)"
   ]
  },
  {
   "cell_type": "markdown",
   "id": "6d18002f",
   "metadata": {},
   "source": [
    "Podemos obtener la comoving distance para un conjunto de corrimientos al rojo (z):"
   ]
  },
  {
   "cell_type": "code",
   "execution_count": 30,
   "id": "eb3d8802",
   "metadata": {},
   "outputs": [
    {
     "data": {
      "text/latex": [
       "$[1916.0694,~3363.0706,~4451.7475] \\; \\mathrm{Mpc}$"
      ],
      "text/plain": [
       "<Quantity [1916.06941724, 3363.07062107, 4451.7475201 ] Mpc>"
      ]
     },
     "execution_count": 30,
     "metadata": {},
     "output_type": "execute_result"
    }
   ],
   "source": [
    "wmap.comoving_distance(np.array([0.5,1.0,1.5]))"
   ]
  },
  {
   "cell_type": "code",
   "execution_count": 32,
   "id": "07981826",
   "metadata": {},
   "outputs": [
    {
     "data": {
      "text/latex": [
       "$[1946.4166,~3395.6345,~4477.1979] \\; \\mathrm{Mpc}$"
      ],
      "text/plain": [
       "<Quantity [1946.41663479, 3395.63447115, 4477.19790652] Mpc>"
      ]
     },
     "execution_count": 32,
     "metadata": {},
     "output_type": "execute_result"
    }
   ],
   "source": [
    "P18.comoving_distance(np.array([0.5,1.0,1.5]))"
   ]
  },
  {
   "cell_type": "markdown",
   "id": "348d2b9b",
   "metadata": {},
   "source": [
    "Podemos crear nuestra propia cosmología:"
   ]
  },
  {
   "cell_type": "markdown",
   "id": "f60523ae",
   "metadata": {},
   "source": [
    "Utilicemos un modelo FLRW y cambiamos algunos valores como la constante de Hubble, la cantidad de materia y la temperatura del CMB."
   ]
  },
  {
   "cell_type": "code",
   "execution_count": 38,
   "id": "9cd65b16",
   "metadata": {},
   "outputs": [],
   "source": [
    "cosmo = FlatLambdaCDM(H0=70, Om0=0.3, Tcmb0=2.725)"
   ]
  },
  {
   "cell_type": "code",
   "execution_count": 39,
   "id": "f3e66e68",
   "metadata": {},
   "outputs": [
    {
     "data": {
      "text/latex": [
       "$70 \\; \\mathrm{\\frac{km}{Mpc\\,s}}$"
      ],
      "text/plain": [
       "<Quantity 70. km / (Mpc s)>"
      ]
     },
     "execution_count": 39,
     "metadata": {},
     "output_type": "execute_result"
    }
   ],
   "source": [
    "cosmo.H(0)"
   ]
  },
  {
   "cell_type": "code",
   "execution_count": 40,
   "id": "6b92e2b3",
   "metadata": {},
   "outputs": [
    {
     "data": {
      "text/plain": [
       "3.04"
      ]
     },
     "execution_count": 40,
     "metadata": {},
     "output_type": "execute_result"
    }
   ],
   "source": [
    "cosmo.Neff"
   ]
  },
  {
   "cell_type": "code",
   "execution_count": 41,
   "id": "9514819d",
   "metadata": {},
   "outputs": [
    {
     "data": {
      "text/plain": [
       "FlatLambdaCDM(H0=70.0 km / (Mpc s), Om0=0.3, Tcmb0=2.725 K, Neff=3.04, m_nu=[0. 0. 0.] eV, Ob0=None)"
      ]
     },
     "execution_count": 41,
     "metadata": {},
     "output_type": "execute_result"
    }
   ],
   "source": [
    "cosmo\n"
   ]
  },
  {
   "cell_type": "markdown",
   "id": "5c95ab32",
   "metadata": {},
   "source": [
    "Encontremos la distancia lumínica para nuestra cosmología y la comparamos con la de Planck 2018"
   ]
  },
  {
   "cell_type": "code",
   "execution_count": 42,
   "id": "386bb40b",
   "metadata": {},
   "outputs": [
    {
     "data": {
      "text/latex": [
       "$35842.353 \\; \\mathrm{Mpc}$"
      ],
      "text/plain": [
       "<Quantity 35842.35296334 Mpc>"
      ]
     },
     "execution_count": 42,
     "metadata": {},
     "output_type": "execute_result"
    }
   ],
   "source": [
    "cosmo.luminosity_distance(4)"
   ]
  },
  {
   "cell_type": "code",
   "execution_count": 43,
   "id": "b64a3642",
   "metadata": {},
   "outputs": [
    {
     "data": {
      "text/latex": [
       "$36659.047 \\; \\mathrm{Mpc}$"
      ],
      "text/plain": [
       "<Quantity 36659.04730931 Mpc>"
      ]
     },
     "execution_count": 43,
     "metadata": {},
     "output_type": "execute_result"
    }
   ],
   "source": [
    "P18.luminosity_distance(4)"
   ]
  },
  {
   "cell_type": "markdown",
   "id": "94f00a62",
   "metadata": {},
   "source": [
    "O la edad del universo"
   ]
  },
  {
   "cell_type": "code",
   "execution_count": 44,
   "id": "66db4ae4",
   "metadata": {},
   "outputs": [
    {
     "data": {
      "text/latex": [
       "$13.461701 \\; \\mathrm{Gyr}$"
      ],
      "text/plain": [
       "<Quantity 13.4617013 Gyr>"
      ]
     },
     "execution_count": 44,
     "metadata": {},
     "output_type": "execute_result"
    }
   ],
   "source": [
    "cosmo.age(0)"
   ]
  },
  {
   "cell_type": "code",
   "execution_count": 45,
   "id": "11f6aa1f",
   "metadata": {},
   "outputs": [
    {
     "data": {
      "text/latex": [
       "$13.786885 \\; \\mathrm{Gyr}$"
      ],
      "text/plain": [
       "<Quantity 13.7868853 Gyr>"
      ]
     },
     "execution_count": 45,
     "metadata": {},
     "output_type": "execute_result"
    }
   ],
   "source": [
    "P18.age(0)"
   ]
  },
  {
   "cell_type": "code",
   "execution_count": 47,
   "id": "07983ee1",
   "metadata": {},
   "outputs": [
    {
     "data": {
      "text/latex": [
       "$[13.461701,~8.4212801,~5.7469802,~4.1964537] \\; \\mathrm{Gyr}$"
      ],
      "text/plain": [
       "<Quantity [13.4617013 ,  8.42128013,  5.74698021,  4.19645373] Gyr>"
      ]
     },
     "execution_count": 47,
     "metadata": {},
     "output_type": "execute_result"
    }
   ],
   "source": [
    "cosmo.age([0.0,0.5,1.0,1.5])"
   ]
  },
  {
   "cell_type": "code",
   "execution_count": 48,
   "id": "d7bb7aa7",
   "metadata": {},
   "outputs": [
    {
     "data": {
      "text/latex": [
       "$[13.786885,~8.5906458,~5.8513433,~4.2688437] \\; \\mathrm{Gyr}$"
      ],
      "text/plain": [
       "<Quantity [13.7868853 ,  8.59064577,  5.8513433 ,  4.2688437 ] Gyr>"
      ]
     },
     "execution_count": 48,
     "metadata": {},
     "output_type": "execute_result"
    }
   ],
   "source": [
    "P18.age([0.0,0.5,1.0,1.5])"
   ]
  },
  {
   "cell_type": "code",
   "execution_count": 49,
   "id": "f671126b",
   "metadata": {},
   "outputs": [
    {
     "data": {
      "text/latex": [
       "$0.00043009763 \\; \\mathrm{Gyr}$"
      ],
      "text/plain": [
       "<Quantity 0.0004301 Gyr>"
      ]
     },
     "execution_count": 49,
     "metadata": {},
     "output_type": "execute_result"
    }
   ],
   "source": [
    "P18.age(1000)"
   ]
  },
  {
   "cell_type": "markdown",
   "id": "aefa1d76",
   "metadata": {},
   "source": [
    "Comparemos la densidad crítica del universo para un modelo LambdaCDM y un modelo FlatLambdaCDM"
   ]
  },
  {
   "cell_type": "code",
   "execution_count": 51,
   "id": "e81286cd",
   "metadata": {},
   "outputs": [
    {
     "data": {
      "text/latex": [
       "$9.3093616 \\times 10^{-30} \\; \\mathrm{\\frac{g}{cm^{3}}}$"
      ],
      "text/plain": [
       "<Quantity 9.30936159e-30 g / cm3>"
      ]
     },
     "execution_count": 51,
     "metadata": {},
     "output_type": "execute_result"
    }
   ],
   "source": [
    "WMAP7.critical_density(0)"
   ]
  },
  {
   "cell_type": "code",
   "execution_count": 52,
   "id": "03f0acea",
   "metadata": {},
   "outputs": [
    {
     "data": {
      "text/latex": [
       "$8.5988143 \\times 10^{-30} \\; \\mathrm{\\frac{g}{cm^{3}}}$"
      ],
      "text/plain": [
       "<Quantity 8.59881426e-30 g / cm3>"
      ]
     },
     "execution_count": 52,
     "metadata": {},
     "output_type": "execute_result"
    }
   ],
   "source": [
    "P18.critical_density(0)"
   ]
  },
  {
   "cell_type": "markdown",
   "id": "1cd91ec7",
   "metadata": {},
   "source": [
    "### Encontrar el corrimiento al rojo (z) correspondiente a un valor de una cantidad cosmológica"
   ]
  },
  {
   "cell_type": "code",
   "execution_count": 59,
   "id": "01c559a1",
   "metadata": {},
   "outputs": [
    {
     "ename": "CosmologyError",
     "evalue": "Best guess z=999.9999865617187 is very close to the upper z limit 1000.0.\nTry re-running with a different zmax.",
     "output_type": "error",
     "traceback": [
      "\u001b[0;31m---------------------------------------------------------------------------\u001b[0m",
      "\u001b[0;31mCosmologyError\u001b[0m                            Traceback (most recent call last)",
      "Input \u001b[0;32mIn [59]\u001b[0m, in \u001b[0;36m<cell line: 1>\u001b[0;34m()\u001b[0m\n\u001b[0;32m----> 1\u001b[0m \u001b[43mz_at_value\u001b[49m\u001b[43m(\u001b[49m\u001b[43mP18\u001b[49m\u001b[38;5;241;43m.\u001b[39;49m\u001b[43mage\u001b[49m\u001b[43m,\u001b[49m\u001b[38;5;241;43m400000\u001b[39;49m\u001b[38;5;241;43m*\u001b[39;49m\u001b[43mu\u001b[49m\u001b[38;5;241;43m.\u001b[39;49m\u001b[43myr\u001b[49m\u001b[43m)\u001b[49m\n",
      "File \u001b[0;32m/opt/anaconda3/envs/GR/lib/python3.10/site-packages/astropy/cosmology/funcs.py:358\u001b[0m, in \u001b[0;36mz_at_value\u001b[0;34m(func, fval, zmin, zmax, ztol, maxfun, method, bracket, verbose)\u001b[0m\n\u001b[1;32m    349\u001b[0m \u001b[38;5;28;01mwith\u001b[39;00m np\u001b[38;5;241m.\u001b[39mnditer(\n\u001b[1;32m    350\u001b[0m     [fval, zmin, zmax, ztol, maxfun, bracket, \u001b[38;5;28;01mNone\u001b[39;00m],\n\u001b[1;32m    351\u001b[0m     flags\u001b[38;5;241m=\u001b[39m[\u001b[38;5;124m'\u001b[39m\u001b[38;5;124mrefs_ok\u001b[39m\u001b[38;5;124m'\u001b[39m],\n\u001b[0;32m   (...)\u001b[0m\n\u001b[1;32m    355\u001b[0m     casting\u001b[38;5;241m=\u001b[39m\u001b[38;5;124m\"\u001b[39m\u001b[38;5;124mno\u001b[39m\u001b[38;5;124m\"\u001b[39m,\n\u001b[1;32m    356\u001b[0m ) \u001b[38;5;28;01mas\u001b[39;00m it:\n\u001b[1;32m    357\u001b[0m     \u001b[38;5;28;01mfor\u001b[39;00m fv, zmn, zmx, zt, mfe, bkt, zs \u001b[38;5;129;01min\u001b[39;00m it:  \u001b[38;5;66;03m# ← eltwise unpack & eval ↓\u001b[39;00m\n\u001b[0;32m--> 358\u001b[0m         zs[\u001b[38;5;241m.\u001b[39m\u001b[38;5;241m.\u001b[39m\u001b[38;5;241m.\u001b[39m] \u001b[38;5;241m=\u001b[39m \u001b[43m_z_at_scalar_value\u001b[49m\u001b[43m(\u001b[49m\u001b[43mfunc\u001b[49m\u001b[43m,\u001b[49m\u001b[43m \u001b[49m\u001b[43mfv\u001b[49m\u001b[43m \u001b[49m\u001b[38;5;241;43m*\u001b[39;49m\u001b[43m \u001b[49m\u001b[43munit\u001b[49m\u001b[43m,\u001b[49m\u001b[43m \u001b[49m\u001b[43mzmin\u001b[49m\u001b[38;5;241;43m=\u001b[39;49m\u001b[43mzmn\u001b[49m\u001b[43m,\u001b[49m\u001b[43m \u001b[49m\u001b[43mzmax\u001b[49m\u001b[38;5;241;43m=\u001b[39;49m\u001b[43mzmx\u001b[49m\u001b[43m,\u001b[49m\n\u001b[1;32m    359\u001b[0m \u001b[43m                                     \u001b[49m\u001b[43mztol\u001b[49m\u001b[38;5;241;43m=\u001b[39;49m\u001b[43mzt\u001b[49m\u001b[43m,\u001b[49m\u001b[43m \u001b[49m\u001b[43mmaxfun\u001b[49m\u001b[38;5;241;43m=\u001b[39;49m\u001b[43mmfe\u001b[49m\u001b[43m,\u001b[49m\u001b[43m \u001b[49m\u001b[43mbracket\u001b[49m\u001b[38;5;241;43m=\u001b[39;49m\u001b[43mbkt\u001b[49m\u001b[38;5;241;43m.\u001b[39;49m\u001b[43mitem\u001b[49m\u001b[43m(\u001b[49m\u001b[43m)\u001b[49m\u001b[43m,\u001b[49m\n\u001b[1;32m    360\u001b[0m \u001b[43m                                     \u001b[49m\u001b[38;5;66;43;03m# not broadcasted\u001b[39;49;00m\n\u001b[1;32m    361\u001b[0m \u001b[43m                                     \u001b[49m\u001b[43mmethod\u001b[49m\u001b[38;5;241;43m=\u001b[39;49m\u001b[43mmethod\u001b[49m\u001b[43m,\u001b[49m\u001b[43m \u001b[49m\u001b[43mverbose\u001b[49m\u001b[38;5;241;43m=\u001b[39;49m\u001b[43mverbose\u001b[49m\u001b[43m)\u001b[49m\n\u001b[1;32m    362\u001b[0m     \u001b[38;5;66;03m# since bracket is an object array, the output will be too, so it is\u001b[39;00m\n\u001b[1;32m    363\u001b[0m     \u001b[38;5;66;03m# cast to the same type as the function value.\u001b[39;00m\n\u001b[1;32m    364\u001b[0m     result \u001b[38;5;241m=\u001b[39m it\u001b[38;5;241m.\u001b[39moperands[\u001b[38;5;241m-\u001b[39m\u001b[38;5;241m1\u001b[39m]  \u001b[38;5;66;03m# zs\u001b[39;00m\n",
      "File \u001b[0;32m/opt/anaconda3/envs/GR/lib/python3.10/site-packages/astropy/cosmology/funcs.py:94\u001b[0m, in \u001b[0;36m_z_at_scalar_value\u001b[0;34m(func, fval, zmin, zmax, ztol, maxfun, method, bracket, verbose)\u001b[0m\n\u001b[1;32m     91\u001b[0m     \u001b[38;5;28mprint\u001b[39m(res)\n\u001b[1;32m     93\u001b[0m \u001b[38;5;28;01mif\u001b[39;00m np\u001b[38;5;241m.\u001b[39mallclose(res\u001b[38;5;241m.\u001b[39mx, zmax):\n\u001b[0;32m---> 94\u001b[0m     \u001b[38;5;28;01mraise\u001b[39;00m CosmologyError(\n\u001b[1;32m     95\u001b[0m         \u001b[38;5;124mf\u001b[39m\u001b[38;5;124m\"\u001b[39m\u001b[38;5;124mBest guess z=\u001b[39m\u001b[38;5;132;01m{\u001b[39;00mres\u001b[38;5;241m.\u001b[39mx\u001b[38;5;132;01m}\u001b[39;00m\u001b[38;5;124m is very close to the upper z limit \u001b[39m\u001b[38;5;132;01m{\u001b[39;00mzmax\u001b[38;5;132;01m}\u001b[39;00m\u001b[38;5;124m.\u001b[39m\u001b[38;5;124m\"\u001b[39m\n\u001b[1;32m     96\u001b[0m         \u001b[38;5;124m\"\u001b[39m\u001b[38;5;130;01m\\n\u001b[39;00m\u001b[38;5;124mTry re-running with a different zmax.\u001b[39m\u001b[38;5;124m\"\u001b[39m)\n\u001b[1;32m     97\u001b[0m \u001b[38;5;28;01melif\u001b[39;00m np\u001b[38;5;241m.\u001b[39mallclose(res\u001b[38;5;241m.\u001b[39mx, zmin):\n\u001b[1;32m     98\u001b[0m     \u001b[38;5;28;01mraise\u001b[39;00m CosmologyError(\n\u001b[1;32m     99\u001b[0m         \u001b[38;5;124mf\u001b[39m\u001b[38;5;124m\"\u001b[39m\u001b[38;5;124mBest guess z=\u001b[39m\u001b[38;5;132;01m{\u001b[39;00mres\u001b[38;5;241m.\u001b[39mx\u001b[38;5;132;01m}\u001b[39;00m\u001b[38;5;124m is very close to the lower z limit \u001b[39m\u001b[38;5;132;01m{\u001b[39;00mzmin\u001b[38;5;132;01m}\u001b[39;00m\u001b[38;5;124m.\u001b[39m\u001b[38;5;124m\"\u001b[39m\n\u001b[1;32m    100\u001b[0m         \u001b[38;5;124m\"\u001b[39m\u001b[38;5;130;01m\\n\u001b[39;00m\u001b[38;5;124mTry re-running with a different zmin.\u001b[39m\u001b[38;5;124m\"\u001b[39m)\n",
      "\u001b[0;31mCosmologyError\u001b[0m: Best guess z=999.9999865617187 is very close to the upper z limit 1000.0.\nTry re-running with a different zmax."
     ]
    }
   ],
   "source": [
    "z_at_value(P18.age,400000*u.yr)"
   ]
  },
  {
   "cell_type": "code",
   "execution_count": null,
   "id": "ced26273",
   "metadata": {},
   "outputs": [],
   "source": []
  }
 ],
 "metadata": {
  "kernelspec": {
   "display_name": "Python 3 (ipykernel)",
   "language": "python",
   "name": "python3"
  },
  "language_info": {
   "codemirror_mode": {
    "name": "ipython",
    "version": 3
   },
   "file_extension": ".py",
   "mimetype": "text/x-python",
   "name": "python",
   "nbconvert_exporter": "python",
   "pygments_lexer": "ipython3",
   "version": "3.10.6"
  }
 },
 "nbformat": 4,
 "nbformat_minor": 5
}
